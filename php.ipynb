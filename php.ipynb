{
 "cells": [
  {
   "cell_type": "markdown",
   "metadata": {},
   "source": []
  },
  {
   "cell_type": "markdown",
   "metadata": {},
   "source": [
    "# Documentación de PHP\n",
    "\n",
    "## Introducción a PHP\n",
    "\n",
    "PHP (Hypertext Preprocessor) es un lenguaje de scripting del lado del servidor diseñado para el desarrollo web.\n",
    "\n",
    "## Instalación\n",
    "\n",
    "Para instalar PHP, puedes descargarlo desde [php.net](https://www.php.net/downloads) o usar un paquete como XAMPP, MAMP o LAMP.\n",
    "\n",
    "## Hola Mundo en PHP\n",
    "\n",
    "```php\n",
    "<?php\n",
    "echo \"Hola, Mundo!\";\n",
    "?>"
   ]
  },
  {
   "cell_type": "markdown",
   "metadata": {},
   "source": [
    "## 1. variables"
   ]
  },
  {
   "cell_type": "markdown",
   "metadata": {},
   "source": [
    "Tipos de Variables\n",
    "PHP soporta varios tipos de variables, incluyendo:\n",
    "\n",
    "-Strings: cadenas de texto.\n",
    "\n",
    "-Enteros (Integers): números enteros.\n",
    "\n",
    "-Puntos flotantes (Floats): números decimales.\n",
    "\n",
    "-Booleanos (Booleans): valores verdaderos o falsos.\n",
    "\n",
    "-Arrays: colecciones de valores.\n",
    "\n",
    "-Objetos (Objects): instancias de clases.\n",
    "\n",
    "-Nulos (NULL): una variable sin valor"
   ]
  },
  {
   "cell_type": "markdown",
   "metadata": {},
   "source": [
    "## 2. if-Else"
   ]
  },
  {
   "cell_type": "markdown",
   "metadata": {
    "vscode": {
     "languageId": "php"
    }
   },
   "source": [
    "?php\n",
    "$number = 10;\n",
    "\n",
    "if ($number > 0) {\n",
    "    echo \"$number es positivo.\";\n",
    "} elseif ($number < 0) {\n",
    "    echo \"$number es negativo.\";\n",
    "} else {\n",
    "    echo \"$number es cero.\";\n",
    "}\n",
    "?>"
   ]
  },
  {
   "cell_type": "markdown",
   "metadata": {},
   "source": [
    "## 3.Bucles"
   ]
  },
  {
   "cell_type": "code",
   "execution_count": null,
   "metadata": {
    "vscode": {
     "languageId": "php"
    }
   },
   "outputs": [],
   "source": [
    "?php\n",
    "$i = 0;\n",
    "while ($i < 5) {\n",
    "    echo \"El valor de i es: $i\\n\";\n",
    "    $i++;\n",
    "}\n",
    "\n",
    "for ($j = 0; $j < 5; $j++) {\n",
    "    echo \"El valor de j es: $j\\n\";\n",
    "}\n",
    "\n",
    "\n",
    "$array = array(1, 2, 3, 4, 5);\n",
    "foreach ($array as $value) {\n",
    "    echo \"El valor del array es: $value\\n\";\n",
    "}\n",
    "?>"
   ]
  },
  {
   "cell_type": "markdown",
   "metadata": {},
   "source": [
    "## 5. Funciones "
   ]
  },
  {
   "cell_type": "code",
   "execution_count": null,
   "metadata": {
    "vscode": {
     "languageId": "php"
    }
   },
   "outputs": [],
   "source": [
    "?php\n",
    "function sayHello() {\n",
    "    echo \"Hola, Mundo!\";\n",
    "}\n",
    "\n",
    "sayHello();\n",
    "\n",
    "function greet($name) {\n",
    "    echo \"Hola, $name!\";\n",
    "}\n",
    "\n",
    "greet(\"Carlos\");\n",
    "\n",
    "function add($a, $b) {\n",
    "    return $a + $b;\n",
    "}\n",
    "\n",
    "$result = add(5, 3);\n",
    "echo \"El resultado de la suma es: $result\";\n",
    "?>"
   ]
  },
  {
   "cell_type": "markdown",
   "metadata": {},
   "source": [
    "## 6.Clases"
   ]
  },
  {
   "cell_type": "code",
   "execution_count": null,
   "metadata": {
    "vscode": {
     "languageId": "php"
    }
   },
   "outputs": [],
   "source": [
    "?php\n",
    "\n",
    "class Persona {\n",
    "  \n",
    "    public $nombre;\n",
    "    public $edad;\n",
    "\n",
    "    public function __construct($nombre, $edad) {\n",
    "        $this->nombre = $nombre;\n",
    "        $this->edad = $edad;\n",
    "    }\n",
    "\n",
    "    public function saludar() {\n",
    "        echo \"Hola, mi nombre es $this->nombre y tengo $this->edad años.\";\n",
    "    }\n",
    "}\n",
    "\n",
    "$persona1 = new Persona(\"Juan\", 25);\n",
    "\n",
    "$persona1->saludar();\n",
    "?>"
   ]
  },
  {
   "cell_type": "markdown",
   "metadata": {},
   "source": [
    "## 7.Conexión a Base de Datos"
   ]
  },
  {
   "cell_type": "code",
   "execution_count": null,
   "metadata": {
    "vscode": {
     "languageId": "php"
    }
   },
   "outputs": [],
   "source": [
    "?php\n",
    "$servername = \"localhost\";\n",
    "$username = \"root\";\n",
    "$password = \"\";\n",
    "$dbname = \"mi_base_de_datos\";\n",
    "\n",
    "// Crear conexión\n",
    "$conn = new mysqli($servername, $username, $password, $dbname);\n",
    "\n",
    "// Verificar conexión\n",
    "if ($conn->connect_error) {\n",
    "    die(\"Conexión fallida: \" . $conn->connect_error);\n",
    "}\n",
    "echo \"Conexión exitosa\";\n",
    "\n",
    "// Cerrar conexión\n",
    "$conn->close();\n",
    "?>"
   ]
  },
  {
   "cell_type": "markdown",
   "metadata": {},
   "source": [
    "## 8. mas documentacion"
   ]
  },
  {
   "cell_type": "markdown",
   "metadata": {},
   "source": [
    "[Documentación PHP](https://www.php.net/docs.php)\n",
    "\n",
    "[PHP Manual](https://www.php.net/manual/es/)\n",
    "\n",
    "[PHP: The Right Way](https://phptherightway.com/)"
   ]
  }
 ],
 "metadata": {
  "language_info": {
   "name": "python"
  }
 },
 "nbformat": 4,
 "nbformat_minor": 2
}
