{
 "cells": [
  {
   "cell_type": "markdown",
   "metadata": {},
   "source": []
  },
  {
   "cell_type": "markdown",
   "metadata": {},
   "source": [
    "# Documentación de PHP\n",
    "\n",
    "## Introducción a PHP\n",
    "\n",
    "PHP (Hypertext Preprocessor) es un lenguaje de scripting del lado del servidor diseñado para el desarrollo web.\n",
    "\n",
    "## Instalación\n",
    "\n",
    "Para instalar PHP, puedes descargarlo desde [php.net](https://www.php.net/downloads) o usar un paquete como XAMPP, MAMP o LAMP.\n",
    "\n",
    "## Hola Mundo en PHP\n",
    "\n",
    "```php\n",
    "<?php\n",
    "echo \"Hola, Mundo!\";\n",
    "?>"
   ]
  },
  {
   "cell_type": "markdown",
   "metadata": {},
   "source": [
    "## 1. variables"
   ]
  },
  {
   "cell_type": "markdown",
   "metadata": {},
   "source": [
    "<?php\n",
    "$nombre = \"Juan\";\n",
    "$edad = 25;\n",
    "echo \"Nombre: $nombre, Edad: $edad\";\n",
    "?>"
   ]
  },
  {
   "cell_type": "markdown",
   "metadata": {},
   "source": [
    "## 2. if-Else"
   ]
  },
  {
   "cell_type": "markdown",
   "metadata": {},
   "source": [
    "<?php\n",
    "$numero = 10;\n",
    "if ($numero > 0) {\n",
    "    echo \"El número es positivo.\";\n",
    "} else {\n",
    "    echo \"El número es negativo o cero.\";\n",
    "}\n",
    "?>"
   ]
  },
  {
   "cell_type": "markdown",
   "metadata": {},
   "source": [
    "## 3.Bucles"
   ]
  },
  {
   "cell_type": "markdown",
   "metadata": {},
   "source": [
    "<?php\n",
    "$i = 0;\n",
    "while ($i < 5) {\n",
    "    echo $i;\n",
    "    $i++;\n",
    "}\n",
    "?>"
   ]
  },
  {
   "cell_type": "markdown",
   "metadata": {},
   "source": [
    "## 4.For"
   ]
  },
  {
   "cell_type": "markdown",
   "metadata": {
    "vscode": {
     "languageId": "plaintext"
    }
   },
   "source": [
    "<?php\n",
    "for ($i = 0; $i < 5; $i++) {\n",
    "    echo $i;\n",
    "}\n",
    "?>"
   ]
  },
  {
   "cell_type": "markdown",
   "metadata": {},
   "source": [
    "## 5. Funciones "
   ]
  },
  {
   "cell_type": "markdown",
   "metadata": {
    "vscode": {
     "languageId": "plaintext"
    }
   },
   "source": [
    "<?php\n",
    "function saludar($nombre) {\n",
    "    return \"Hola, \" . $nombre;\n",
    "}\n",
    "echo saludar(\"Mundo\");\n",
    "?>"
   ]
  },
  {
   "cell_type": "markdown",
   "metadata": {},
   "source": [
    "## 6.Clases"
   ]
  },
  {
   "cell_type": "markdown",
   "metadata": {
    "vscode": {
     "languageId": "plaintext"
    }
   },
   "source": [
    "<?php\n",
    "class Persona {\n",
    "    public $nombre;\n",
    "    public $edad;\n",
    "\n",
    "    function __construct($nombre, $edad) {\n",
    "        $this->nombre = $nombre;\n",
    "        $this->edad = $edad;\n",
    "    }\n",
    "\n",
    "    function presentarse() {\n",
    "        return \"Hola, soy $this->nombre y tengo $this->edad años\";\n",
    "    }\n",
    "}\n",
    "\n",
    "$persona = new Persona(\"Juan\", 25);\n",
    "echo $persona->presentarse();\n",
    "?>\n"
   ]
  },
  {
   "cell_type": "markdown",
   "metadata": {},
   "source": [
    "## 7.Conexión a Base de Datos"
   ]
  },
  {
   "cell_type": "markdown",
   "metadata": {
    "vscode": {
     "languageId": "plaintext"
    }
   },
   "source": [
    "<?php\n",
    "$servername = \"localhost\";\n",
    "$username = \"username\";\n",
    "$password = \"password\";\n",
    "$dbname = \"database\";\n",
    "\n",
    "// Crear conexión\n",
    "$conn = new mysqli($servername, $username, $password, $dbname);\n",
    "\n",
    "// Verificar conexión\n",
    "if ($conn->connect_error) {\n",
    "    die(\"Conexión fallida: \" . $conn->connect_error);\n",
    "}\n",
    "echo \"Conexión exitosa\";\n",
    "?>"
   ]
  },
  {
   "cell_type": "markdown",
   "metadata": {},
   "source": [
    "## 8. mas documentacion"
   ]
  },
  {
   "cell_type": "markdown",
   "metadata": {},
   "source": [
    "[Documentación PHP](https://www.php.net/docs.php)\n",
    "\n",
    "[PHP Manual](https://www.php.net/manual/es/)\n",
    "\n",
    "[PHP: The Right Way](https://phptherightway.com/)"
   ]
  }
 ],
 "metadata": {
  "language_info": {
   "name": "python"
  }
 },
 "nbformat": 4,
 "nbformat_minor": 2
}
